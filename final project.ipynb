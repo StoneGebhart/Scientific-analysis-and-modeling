{
 "cells": [
  {
   "cell_type": "code",
   "execution_count": 7,
   "id": "92e36175",
   "metadata": {},
   "outputs": [],
   "source": [
    "import numpy as np\n",
    "import math\n",
    "G=6.67E-11\n",
    "M=4.602E24\n",
    "R=6051000\n",
    "\n",
    "def altitude(t):\n",
    "    print(\"satelite will orbit every\", t, \"seconds:\")\n",
    "\n",
    "    h1=G*M*(t**2)\n",
    "    h2=(4*math.pi)**2\n",
    "    h3=h1/h2\n",
    "    h4=h3**(.33)\n",
    "    h5=h4-R\n",
    "    print(h5, \"kilometers\")\n",
    "    h6=h5*1000\n",
    "    print(h6,\"meters\")\n",
    "\n",
    "#10091520 seconds per orbit (116.8 days)\n",
    "#2.1E7 seconds per sidreal day (243 days)\n",
    "\n",
    "\n",
    "\n"
   ]
  },
  {
   "cell_type": "code",
   "execution_count": 10,
   "id": "272ce6a2",
   "metadata": {
    "scrolled": true
   },
   "outputs": [
    {
     "name": "stdout",
     "output_type": "stream",
     "text": [
      "satelite will orbit every 10091520 seconds:\n",
      "470233824.27829343 kilometers\n",
      "470233824278.29346 meters\n"
     ]
    }
   ],
   "source": [
    "#once per day\n",
    "altitude(10091520)"
   ]
  },
  {
   "cell_type": "code",
   "execution_count": 85,
   "id": "9ce4f336",
   "metadata": {},
   "outputs": [
    {
     "name": "stdout",
     "output_type": "stream",
     "text": [
      "satelite will orbit every 18000 seconds:\n",
      "1255935.1179239163 kilometers\n",
      "1255935117.9239163 meters\n"
     ]
    }
   ],
   "source": [
    "#5 hours\n",
    "altitude(18000)"
   ]
  },
  {
   "cell_type": "code",
   "execution_count": 86,
   "id": "262c16c9",
   "metadata": {},
   "outputs": [
    {
     "name": "stdout",
     "output_type": "stream",
     "text": [
      "satelite will orbit every 5400 seconds:\n",
      "-2750077.8709840057 kilometers\n",
      "-2750077870.984006 meters\n"
     ]
    }
   ],
   "source": [
    "#1.5 hours\n",
    "altitude(5400)"
   ]
  },
  {
   "cell_type": "code",
   "execution_count": 87,
   "id": "3d41b0a2",
   "metadata": {},
   "outputs": [
    {
     "name": "stdout",
     "output_type": "stream",
     "text": [
      "satelite will orbit every 1800 seconds:\n",
      "-4452416.776031676 kilometers\n",
      "-4452416776.031675 meters\n"
     ]
    }
   ],
   "source": [
    "#.5 hour\n",
    "altitude(1800)"
   ]
  },
  {
   "cell_type": "code",
   "execution_count": 11,
   "id": "76af12c7",
   "metadata": {},
   "outputs": [
    {
     "name": "stdout",
     "output_type": "stream",
     "text": [
      "satelite will orbit every 20995200 seconds:\n",
      "766370952.8484666 kilometers\n",
      "766370952848.4667 meters\n"
     ]
    }
   ],
   "source": [
    "#sidreal day\n",
    "altitude(20995200)"
   ]
  },
  {
   "cell_type": "code",
   "execution_count": null,
   "id": "d1b73b27",
   "metadata": {},
   "outputs": [],
   "source": []
  },
  {
   "cell_type": "code",
   "execution_count": null,
   "id": "524b1b09",
   "metadata": {},
   "outputs": [],
   "source": []
  }
 ],
 "metadata": {
  "kernelspec": {
   "display_name": "Python 3 (ipykernel)",
   "language": "python",
   "name": "python3"
  },
  "language_info": {
   "codemirror_mode": {
    "name": "ipython",
    "version": 3
   },
   "file_extension": ".py",
   "mimetype": "text/x-python",
   "name": "python",
   "nbconvert_exporter": "python",
   "pygments_lexer": "ipython3",
   "version": "3.9.7"
  }
 },
 "nbformat": 4,
 "nbformat_minor": 5
}
